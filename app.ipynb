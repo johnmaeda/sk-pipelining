{
 "cells": [
  {
   "cell_type": "markdown",
   "metadata": {},
   "source": [
    "# In Semantic Kernel 1.0, How Do You Pipeline Functions? This is how!"
   ]
  },
  {
   "cell_type": "code",
   "execution_count": 1,
   "metadata": {
    "dotnet_interactive": {
     "language": "csharp"
    },
    "polyglot_notebook": {
     "kernelName": "csharp"
    },
    "vscode": {
     "languageId": "polyglot-notebook"
    }
   },
   "outputs": [
    {
     "data": {
      "text/html": [
       "<div><div></div><div></div><div><strong>Installed Packages</strong><ul><li><span>Microsoft.SemanticKernel, 1.6.1</span></li><li><span>Microsoft.SemanticKernel.Plugins.Core, 1.6.1-alpha</span></li></ul></div></div>"
      ]
     },
     "metadata": {},
     "output_type": "display_data"
    }
   ],
   "source": [
    "#r \"nuget: Microsoft.SemanticKernel, 1.6.1\"\n",
    "#r \"nuget: Microsoft.SemanticKernel.Plugins.Core, 1.6.1-alpha\""
   ]
  },
  {
   "cell_type": "code",
   "execution_count": 2,
   "metadata": {
    "vscode": {
     "languageId": "polyglot-notebook"
    }
   },
   "outputs": [],
   "source": [
    "#!import config/Settings.cs\n",
    "#!import config/Utils.cs\n",
    "\n",
    "using Microsoft.SemanticKernel;\n",
    "using Microsoft.SemanticKernel.Connectors.OpenAI;\n",
    "using Microsoft.Extensions.Logging;\n",
    "using Kernel = Microsoft.SemanticKernel.Kernel;\n",
    "\n",
    "Kernel kernel;\n",
    "\n",
    "var (useAzureOpenAI, model, azureEndpoint, apiKey, orgId) = Settings.LoadFromFile();\n",
    "\n",
    "if (useAzureOpenAI) {\n",
    "    kernel = Kernel.CreateBuilder()\n",
    "        .AddAzureOpenAIChatCompletion(model, azureEndpoint, apiKey)\n",
    "        .Build();\n",
    "} else {\n",
    "    kernel = Kernel.CreateBuilder()\n",
    "        .AddOpenAIChatCompletion(\"gpt-4-1106-preview\", apiKey, orgId)\n",
    "        .Build();\n",
    "}"
   ]
  },
  {
   "cell_type": "markdown",
   "metadata": {},
   "source": [
    "# Basic Version\n",
    "\n",
    "This uses the basic Semantic Kernel [prompt template format](https://learn.microsoft.com/en-us/semantic-kernel/prompts/configure-prompts?tabs=Csharp)."
   ]
  },
  {
   "cell_type": "code",
   "execution_count": 3,
   "metadata": {
    "vscode": {
     "languageId": "polyglot-notebook"
    }
   },
   "outputs": [
    {
     "name": "stdout",
     "output_type": "stream",
     "text": [
      "================ PIPELINE ================\n",
      "Nine thousand seven hundred forty.\n"
     ]
    }
   ],
   "source": [
    "#!import config/Pipeliner.cs\n",
    "\n",
    "Console.WriteLine(\"================ PIPELINE ================\");\n",
    "{\n",
    "    // Create a pipeline of functions that will parse a string into an int, multiply it by a double, truncate it to an int, and then humanize it.\n",
    "    KernelFunction parseInt32 = KernelFunctionFactory.CreateFromMethod((string s) => double.Parse(s, CultureInfo.InvariantCulture), \"parseInt32\");\n",
    "    KernelFunction multiplyByN = KernelFunctionFactory.CreateFromMethod((double i, double n) => i * n, \"multiplyByN\");\n",
    "    KernelFunction truncate = KernelFunctionFactory.CreateFromMethod((double d) => (int)d, \"truncate\");\n",
    "\n",
    "    KernelFunction humanize = KernelFunctionFactory.CreateFromPrompt(new PromptTemplateConfig()\n",
    "    {\n",
    "        Template = \"Spell out this in English: {{$number}}\",\n",
    "        InputVariables = [new() { Name = \"number\" }],\n",
    "    });\n",
    "    \n",
    "    KernelFunction pipeline = KernelFunctionPipeliner.Pipe([parseInt32, multiplyByN, truncate, humanize]);\n",
    "\n",
    "    KernelArguments args = new()\n",
    "    {\n",
    "        [\"s\"] = \"123.456\",\n",
    "        [\"n\"] = (double)78.90,\n",
    "    };\n",
    "\n",
    "    // - The parseInt32 function will be invoked, read \"123.456\" from the arguments, and parse it into (double)123.456.\n",
    "    // - The multiplyByN function will be invoked, with i=123.456 and n=78.90, and return (double)9740.6784.\n",
    "    // - The truncate function will be invoked, with d=9740.6784, and return (int)9740, which will be the final result.\n",
    "    Console.WriteLine(await pipeline.InvokeAsync(kernel, args));\n",
    "}"
   ]
  },
  {
   "cell_type": "markdown",
   "metadata": {},
   "source": [
    "# Advanced Version"
   ]
  },
  {
   "cell_type": "code",
   "execution_count": 5,
   "metadata": {
    "vscode": {
     "languageId": "polyglot-notebook"
    }
   },
   "outputs": [
    {
     "name": "stdout",
     "output_type": "stream",
     "text": [
      "-555716488\n"
     ]
    }
   ],
   "source": [
    "#!import config/Pipeliner.cs\n",
    "\n",
    "KernelFunction rand = KernelFunctionFactory.CreateFromMethod(() => Random.Shared.Next(), \"GetRandomInt32\");\n",
    "KernelFunction mult = KernelFunctionFactory.CreateFromMethod((int i, int j) => i * j, \"Multiply\");\n",
    "\n",
    "// - Invokes rand and stores the random number into args[\"i\"]\n",
    "// - Invokes rand and stores the random number into args[\"j\"]\n",
    "// - Multiplies arg[\"i\"] and args[\"j\"] to produce the final result\n",
    "KernelFunction graph = KernelFunctionPipeliner.Pipe(new[]\n",
    "{\n",
    "    (rand, \"i\"),\n",
    "    (rand, \"j\"),\n",
    "    (mult, \"\")\n",
    "});\n",
    "\n",
    "Console.WriteLine(await graph.InvokeAsync(kernel));"
   ]
  }
 ],
 "metadata": {
  "language_info": {
   "name": "python"
  }
 },
 "nbformat": 4,
 "nbformat_minor": 2
}
